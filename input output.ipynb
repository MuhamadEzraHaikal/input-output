{
 "cells": [
  {
   "cell_type": "markdown",
   "id": "e83fed15",
   "metadata": {},
   "source": [
    "<h1> Inputoutput </h1>"
   ]
  },
  {
   "cell_type": "code",
   "execution_count": null,
   "id": "e5bf691a",
   "metadata": {},
   "outputs": [],
   "source": [
    "bil1 = input('isikan bilangan 1')\n",
    "bil2 = input('isikan bilangan 2')\n",
    "hasil = int(bil1) + int (bil2)\n",
    "print(\"hasil\", bil1, \"+\" ,bil2,\"=\",hasil)"
   ]
  },
  {
   "cell_type": "code",
   "execution_count": 1,
   "id": "401a3dae",
   "metadata": {},
   "outputs": [
    {
     "name": "stdout",
     "output_type": "stream",
     "text": [
      "masukan panjang persegi : 12\n",
      "masukan lebar persegi : 3\n",
      "luas :  36\n",
      "keliling :  30\n"
     ]
    }
   ],
   "source": [
    "#menghitung luas dan keliling persegi\n",
    "panjang = input(\"masukan panjang persegi : \") \n",
    "lebar = input(\"masukan lebar persegi : \")\n",
    "luas = int(panjang) * int(lebar)\n",
    "keliling = 2*(int(panjang) + int(lebar))\n",
    "print (\"luas : \",luas)\n",
    "print (\"keliling : \" ,keliling)"
   ]
  },
  {
   "cell_type": "code",
   "execution_count": 28,
   "id": "25f9017e",
   "metadata": {},
   "outputs": [
    {
     "name": "stdout",
     "output_type": "stream",
     "text": [
      "Aku\n",
      "suka\n",
      "kamuluvv"
     ]
    }
   ],
   "source": [
    "print (\"Aku\", \"suka\", \"kamu\", sep='\\n', end=\"luvv\") #sep = separator / pembatas"
   ]
  },
  {
   "cell_type": "markdown",
   "id": "65c0ec58",
   "metadata": {},
   "source": [
    "<h1> MEMFORMAT INDEX </H1>"
   ]
  },
  {
   "cell_type": "code",
   "execution_count": 16,
   "id": "14532609",
   "metadata": {},
   "outputs": [
    {
     "name": "stdout",
     "output_type": "stream",
     "text": [
      "hasil dari 8 modulus 10 = 8\n"
     ]
    }
   ],
   "source": [
    "num_1 = 8\n",
    "num_2 = 10\n",
    "\n",
    "#hasil dari 8 modulus 10=8\n",
    "#str.format()\n",
    "\n",
    "print('hasil dari {} modulus {} = {}'. format(num_1,num_2,num_1%num_2))"
   ]
  },
  {
   "cell_type": "markdown",
   "id": "5f173026",
   "metadata": {},
   "source": [
    "<h1>memformat dengan key </h1>"
   ]
  },
  {
   "cell_type": "code",
   "execution_count": 19,
   "id": "8d84fc54",
   "metadata": {},
   "outputs": [
    {
     "name": "stdout",
     "output_type": "stream",
     "text": [
      " Nama anda bakti hariono sugianto\n"
     ]
    }
   ],
   "source": [
    "fname = \"bakti\"\n",
    "mname = \"hariono\"\n",
    "lname = \"sugianto\"\n",
    "\n",
    "print(' Nama anda {0} {1} {2}'.format(fname,mname,lname))"
   ]
  },
  {
   "cell_type": "markdown",
   "id": "24f4b74e",
   "metadata": {},
   "source": [
    "<h1>pengenal string </h1>"
   ]
  },
  {
   "cell_type": "code",
   "execution_count": 21,
   "id": "1fc00670",
   "metadata": {},
   "outputs": [
    {
     "name": "stdout",
     "output_type": "stream",
     "text": [
      "nama anda ecot,, nilai anda 90\n"
     ]
    }
   ],
   "source": [
    "print('nama anda {nama}, nilai anda {nilai}'.format(nama='ecot,',nilai=90))"
   ]
  },
  {
   "cell_type": "code",
   "execution_count": 34,
   "id": "36930916",
   "metadata": {},
   "outputs": [
    {
     "name": "stdout",
     "output_type": "stream",
     "text": [
      "karakter pertama :  u\n",
      "karakter terakhir :  a\n",
      "universitas\n",
      "putra\n",
      "putra\n",
      "artup asun satisrevinu\n"
     ]
    }
   ],
   "source": [
    "univ = \"universitas nusa putra\"\n",
    "\n",
    "print(\"karakter pertama : \",univ[0])\n",
    "print(\"karakter terakhir : \",univ[-1])\n",
    "#universitas\n",
    "print(univ[0:11])\n",
    "print(univ[-5:])\n",
    "print(univ[17:])\n",
    "print(univ[::-1])"
   ]
  },
  {
   "cell_type": "code",
   "execution_count": 3,
   "id": "46272c6a",
   "metadata": {},
   "outputs": [
    {
     "name": "stdout",
     "output_type": "stream",
     "text": [
      "Nama Saya bakti ganteng\n",
      "hasil penjumlahan 100 + 20 = 120\n"
     ]
    }
   ],
   "source": [
    "f_name = 'bakti'\n",
    "l_name = 'ganteng'\n",
    "\n",
    "print(f'Nama Saya {f_name} {l_name}')\n",
    "\n",
    "first = 100\n",
    "second = 20\n",
    "\n",
    "print(f'hasil penjumlahan {first} + {second} = {first+second}')"
   ]
  },
  {
   "cell_type": "code",
   "execution_count": 2,
   "id": "efdee7fe",
   "metadata": {},
   "outputs": [
    {
     "name": "stdout",
     "output_type": "stream",
     "text": [
      "['bakti,akbar,aeng']\n",
      "['bakti', 'akbar', 'aeng']\n",
      "bakti@akbar@aeng\n",
      "masukan tanggal lahir : 18/januari/2000\n",
      "masukan nama : Bakti Ganteng\n",
      "tanggal : 18, bulan : januari, tahun : 2000\n",
      "Nama inisial : BG\n"
     ]
    }
   ],
   "source": [
    "nama = \"bakti,akbar,aeng\"\n",
    "nama2 = \"bakti,akbar,aeng\"\n",
    "#split -> memisahkan string berdasarkan karater tertentu\n",
    "print(nama2.split())\n",
    "print(nama2.split(','))\n",
    "\n",
    "#join -> menggabungkan sting kedalam kumpulan karakter\n",
    "print('@'.join(nama.split(',')))\n",
    "\n",
    "#input tanggal lahir-> 20/januari/2000\n",
    "#input nama-> Bakti Ganteng\n",
    "#output:\n",
    "#tanggal : 18, Bulan:januari, tahun :2000\n",
    "#nama inisial: B\n",
    "\n",
    "tgl =input(\"masukan tanggal lahir : \")\n",
    "nama =input(\"masukan nama : \")\n",
    "pemisah = tgl.split('/')\n",
    "print(f\"tanggal : {pemisah[0]}, bulan : {pemisah[1]}, tahun : {pemisah[2]}\")\n",
    "pemisah2 = nama.split()\n",
    "nama_pertama = pemisah2 [0]\n",
    "nama_terakhir = pemisah2 [1]\n",
    "print(f\"Nama inisial : {nama_pertama[0]+nama_terakhir[0]}\")"
   ]
  }
 ],
 "metadata": {
  "kernelspec": {
   "display_name": "Python 3 (ipykernel)",
   "language": "python",
   "name": "python3"
  },
  "language_info": {
   "codemirror_mode": {
    "name": "ipython",
    "version": 3
   },
   "file_extension": ".py",
   "mimetype": "text/x-python",
   "name": "python",
   "nbconvert_exporter": "python",
   "pygments_lexer": "ipython3",
   "version": "3.9.12"
  }
 },
 "nbformat": 4,
 "nbformat_minor": 5
}
